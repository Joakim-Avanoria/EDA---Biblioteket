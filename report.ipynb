{
 "cells": [
  {
   "cell_type": "code",
   "execution_count": 2,
   "id": "81fe2a5c",
   "metadata": {},
   "outputs": [
    {
     "name": "stdout",
     "output_type": "stream",
     "text": [
      "<class 'pandas.core.frame.DataFrame'>\n",
      "Index: 124 entries, 0 to 127\n",
      "Data columns (total 12 columns):\n",
      " #   Column            Non-Null Count  Dtype         \n",
      "---  ------            --------------  -----         \n",
      " 0   loan_id           124 non-null    object        \n",
      " 1   checkout_date     124 non-null    datetime64[ns]\n",
      " 2   branch            121 non-null    object        \n",
      " 3   genre             118 non-null    object        \n",
      " 4   item_type         123 non-null    object        \n",
      " 5   patron_age_group  123 non-null    object        \n",
      " 6   loan_days         124 non-null    int64         \n",
      " 7   returned_date     108 non-null    datetime64[ns]\n",
      " 8   overdue_days      114 non-null    float64       \n",
      " 9   fine_amount       113 non-null    float64       \n",
      " 10  month             124 non-null    datetime64[ns]\n",
      " 11  week              124 non-null    datetime64[ns]\n",
      "dtypes: datetime64[ns](4), float64(2), int64(1), object(5)\n",
      "memory usage: 12.6+ KB\n"
     ]
    }
   ],
   "source": [
    "from src.io_utils import load_data, coerce_numeric\n",
    "\n",
    "df = coerce_numeric(load_data(\"data/library_loans.csv\"))\n",
    "df = df.dropna(subset=[\"loan_days\"]).copy()\n",
    "df = df[df[\"loan_days\"] > 0].copy()\n",
    "\n",
    "df[\"month\"] = df[\"checkout_date\"].dt.to_period(\"M\").dt.to_timestamp()\n",
    "df[\"week\"] = df[\"checkout_date\"].dt.to_period(\"W\").dt.start_time\n",
    "\n",
    "df.info()\n",
    "# df.head(3)"
   ]
  },
  {
   "cell_type": "code",
   "execution_count": 6,
   "id": "b6a99596",
   "metadata": {},
   "outputs": [
    {
     "name": "stdout",
     "output_type": "stream",
     "text": [
      "Totalt antal lån: 116\n",
      "Genomsnittlig lånetid (dagar): 21.3\n",
      "Andel övertid (%): 47.6%\n"
     ]
    }
   ],
   "source": [
    "from src import metrics as M\n",
    "\n",
    "print(\"Totalt antal lån:\", M.total_loans(df))\n",
    "print(\"Genomsnittlig lånetid (dagar):\", f\"{M.avg_loan_days(df):.1f}\")\n",
    "print(\"Andel övertid (%):\", f\"{100 * M.overdue_rate(df):.1f}%\")"
   ]
  },
  {
   "cell_type": "code",
   "execution_count": 7,
   "id": "1402a5be",
   "metadata": {},
   "outputs": [
    {
     "ename": "AttributeError",
     "evalue": "module 'src.metrics' has no attribute 'loans_by_branch'",
     "output_type": "error",
     "traceback": [
      "\u001b[31m---------------------------------------------------------------------------\u001b[39m",
      "\u001b[31mAttributeError\u001b[39m                            Traceback (most recent call last)",
      "\u001b[36mCell\u001b[39m\u001b[36m \u001b[39m\u001b[32mIn[7]\u001b[39m\u001b[32m, line 2\u001b[39m\n\u001b[32m      1\u001b[39m by_genre = M.loans_by_genre(df)\n\u001b[32m----> \u001b[39m\u001b[32m2\u001b[39m by_branch = \u001b[43mM\u001b[49m\u001b[43m.\u001b[49m\u001b[43mloans_by_branch\u001b[49m(df)\n\u001b[32m      3\u001b[39m by_genre\n\u001b[32m      4\u001b[39m by_branch\n",
      "\u001b[31mAttributeError\u001b[39m: module 'src.metrics' has no attribute 'loans_by_branch'"
     ]
    }
   ],
   "source": [
    "by_genre = M.loans_by_genre(df)\n",
    "by_branch = M.loans_by_branch(df)\n",
    "by_genre\n",
    "by_branch"
   ]
  }
 ],
 "metadata": {
  "kernelspec": {
   "display_name": ".venv",
   "language": "python",
   "name": "python3"
  },
  "language_info": {
   "codemirror_mode": {
    "name": "ipython",
    "version": 3
   },
   "file_extension": ".py",
   "mimetype": "text/x-python",
   "name": "python",
   "nbconvert_exporter": "python",
   "pygments_lexer": "ipython3",
   "version": "3.13.7"
  }
 },
 "nbformat": 4,
 "nbformat_minor": 5
}
